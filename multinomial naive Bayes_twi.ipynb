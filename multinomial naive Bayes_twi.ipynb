{
 "cells": [
  {
   "cell_type": "code",
   "execution_count": 14,
   "id": "b8922800",
   "metadata": {},
   "outputs": [],
   "source": [
    "from sklearn.neural_network import MLPClassifier\n",
    "from urllib.request import urlopen;  # importing url handling\n",
    "import numpy as np;   # importing numpy\n",
    "import pandas as pd\n",
    "from sklearn.feature_extraction.text import CountVectorizer; # importing vectorizer\n",
    "from sklearn.model_selection import train_test_split; # importing splitting\n",
    "from sklearn.naive_bayes import MultinomialNB;  # importing multinomial naive Bayes\n",
    "from sklearn.metrics import confusion_matrix;  # importing confusion matrix\n",
    "import re"
   ]
  },
  {
   "cell_type": "code",
   "execution_count": 11,
   "id": "ee2b6c0e",
   "metadata": {},
   "outputs": [],
   "source": [
    "data= pd.read_csv(\"sample_data_twitter.csv\",encoding=\"latin-1\")"
   ]
  },
  {
   "cell_type": "code",
   "execution_count": 12,
   "id": "b6e2c56f",
   "metadata": {},
   "outputs": [
    {
     "data": {
      "text/html": [
       "<div>\n",
       "<style scoped>\n",
       "    .dataframe tbody tr th:only-of-type {\n",
       "        vertical-align: middle;\n",
       "    }\n",
       "\n",
       "    .dataframe tbody tr th {\n",
       "        vertical-align: top;\n",
       "    }\n",
       "\n",
       "    .dataframe thead th {\n",
       "        text-align: right;\n",
       "    }\n",
       "</style>\n",
       "<table border=\"1\" class=\"dataframe\">\n",
       "  <thead>\n",
       "    <tr style=\"text-align: right;\">\n",
       "      <th></th>\n",
       "      <th>label</th>\n",
       "      <th>tweet</th>\n",
       "    </tr>\n",
       "  </thead>\n",
       "  <tbody>\n",
       "    <tr>\n",
       "      <th>0</th>\n",
       "      <td>0</td>\n",
       "      <td>@user when a father is dysfunctional and is s...</td>\n",
       "    </tr>\n",
       "    <tr>\n",
       "      <th>1</th>\n",
       "      <td>0</td>\n",
       "      <td>@user @user thanks for #lyft credit i can't us...</td>\n",
       "    </tr>\n",
       "    <tr>\n",
       "      <th>2</th>\n",
       "      <td>0</td>\n",
       "      <td>bihday your majesty</td>\n",
       "    </tr>\n",
       "    <tr>\n",
       "      <th>3</th>\n",
       "      <td>0</td>\n",
       "      <td>#model   i love u take with u all the time in ...</td>\n",
       "    </tr>\n",
       "    <tr>\n",
       "      <th>4</th>\n",
       "      <td>0</td>\n",
       "      <td>factsguide: society now    #motivation</td>\n",
       "    </tr>\n",
       "    <tr>\n",
       "      <th>...</th>\n",
       "      <td>...</td>\n",
       "      <td>...</td>\n",
       "    </tr>\n",
       "    <tr>\n",
       "      <th>31957</th>\n",
       "      <td>0</td>\n",
       "      <td>ate @user isz that youuu?Ã°ÂÂÂÃ°ÂÂÂÃ°ÂÂ...</td>\n",
       "    </tr>\n",
       "    <tr>\n",
       "      <th>31958</th>\n",
       "      <td>0</td>\n",
       "      <td>to see nina turner on the airwaves trying to...</td>\n",
       "    </tr>\n",
       "    <tr>\n",
       "      <th>31959</th>\n",
       "      <td>0</td>\n",
       "      <td>listening to sad songs on a monday morning otw...</td>\n",
       "    </tr>\n",
       "    <tr>\n",
       "      <th>31960</th>\n",
       "      <td>1</td>\n",
       "      <td>@user #sikh #temple vandalised in in #calgary,...</td>\n",
       "    </tr>\n",
       "    <tr>\n",
       "      <th>31961</th>\n",
       "      <td>0</td>\n",
       "      <td>thank you @user for you follow</td>\n",
       "    </tr>\n",
       "  </tbody>\n",
       "</table>\n",
       "<p>31962 rows × 2 columns</p>\n",
       "</div>"
      ],
      "text/plain": [
       "       label                                              tweet\n",
       "0          0   @user when a father is dysfunctional and is s...\n",
       "1          0  @user @user thanks for #lyft credit i can't us...\n",
       "2          0                                bihday your majesty\n",
       "3          0  #model   i love u take with u all the time in ...\n",
       "4          0             factsguide: society now    #motivation\n",
       "...      ...                                                ...\n",
       "31957      0  ate @user isz that youuu?Ã°ÂÂÂÃ°ÂÂÂÃ°ÂÂ...\n",
       "31958      0    to see nina turner on the airwaves trying to...\n",
       "31959      0  listening to sad songs on a monday morning otw...\n",
       "31960      1  @user #sikh #temple vandalised in in #calgary,...\n",
       "31961      0                   thank you @user for you follow  \n",
       "\n",
       "[31962 rows x 2 columns]"
      ]
     },
     "execution_count": 12,
     "metadata": {},
     "output_type": "execute_result"
    }
   ],
   "source": [
    "data.drop(columns=['id'],axis=1,inplace=True)\n",
    "data"
   ]
  },
  {
   "cell_type": "code",
   "execution_count": 15,
   "id": "849eb8f1",
   "metadata": {},
   "outputs": [],
   "source": [
    "def cleandata(text):\n",
    "    text = re.sub(r'@[A-Za-z^A-Z0-9]+', '', text) #Removes @mentions\n",
    "    text = re.sub(r'#', '', text) #Removing #\n",
    "    text = re.sub(r'RT[\\s]+', '', text) #Removing RT\n",
    "    text = re.sub(r'https?:\\/\\/\\S+', '', text) #Removing hyperlink\n",
    "    text = re.sub(r'[°ÂŸÃ˜,¼¢¤©~¯¶¹.?¸!@#$%^&¦*]', '', text)\n",
    "   # text = re.sub(r'', '', text)\n",
    "    \n",
    "    return text\n",
    "\n",
    "data['tweet'] = data['tweet'].apply(cleandata)"
   ]
  },
  {
   "cell_type": "code",
   "execution_count": 16,
   "id": "77784d61",
   "metadata": {},
   "outputs": [],
   "source": [
    "target = data['label']\n",
    "tw = data['tweet']"
   ]
  },
  {
   "cell_type": "code",
   "execution_count": 19,
   "id": "b6596e64",
   "metadata": {},
   "outputs": [],
   "source": [
    "# Preprocessing: vectorizing the dataset\n",
    "\n",
    "vectorizer = CountVectorizer(stop_words='english',max_df=0.8,min_df=0.01); \n",
    "DT = vectorizer.fit_transform(tw); \n",
    "vocabulary_dict = vectorizer.vocabulary_;\n",
    "vocabulary_list = vectorizer.get_feature_names_out();\n",
    "vocabulary = np.asarray(vocabulary_list);  # vocabulary in 1D array\n",
    "stopwords = vectorizer.stop_words_;\n",
    "n_words = DT.shape[1];\n",
    "\n",
    "# Document-term matrix in dense form \n",
    "DT_dense = DT.toarray();\n",
    "\n",
    "# Partitioning into training and test sets\n",
    "X_train, X_test, y_train, y_test = train_test_split(DT,target, test_size=0.3, stratify = target,\n",
    "                                shuffle = True, random_state=2021);"
   ]
  },
  {
   "cell_type": "code",
   "execution_count": 20,
   "id": "23a8c3b0",
   "metadata": {},
   "outputs": [],
   "source": [
    "# Fitting multinomial naive Bayes model\n",
    "\n",
    "alpha = 1;\n",
    "clf_MNB = MLPClassifier(alpha=alpha);\n",
    "clf_MNB.fit(X_train,y_train);\n",
    "acc_train = clf_MNB.score(X_train,y_train);\n",
    "acc_test = clf_MNB.score(X_test,y_test);\n",
    "\n",
    "# Confusion matrices\n",
    "\n",
    "y_train_pred = clf_MNB.predict(X_train);\n",
    "cm_train = confusion_matrix(y_train, y_train_pred);\n",
    "y_test_pred = clf_MNB.predict(X_test);\n",
    "cm_test = confusion_matrix(y_test, y_test_pred);"
   ]
  },
  {
   "cell_type": "code",
   "execution_count": 21,
   "id": "4ce9acad",
   "metadata": {},
   "outputs": [
    {
     "data": {
      "text/plain": [
       "93.01282719783084"
      ]
     },
     "execution_count": 21,
     "metadata": {},
     "output_type": "execute_result"
    }
   ],
   "source": [
    "acc_test * 100"
   ]
  },
  {
   "cell_type": "code",
   "execution_count": 22,
   "id": "ae3cdb11",
   "metadata": {},
   "outputs": [
    {
     "data": {
      "text/plain": [
       "93.01390068386"
      ]
     },
     "execution_count": 22,
     "metadata": {},
     "output_type": "execute_result"
    }
   ],
   "source": [
    "acc_train * 100"
   ]
  }
 ],
 "metadata": {
  "kernelspec": {
   "display_name": "Python 3 (ipykernel)",
   "language": "python",
   "name": "python3"
  },
  "language_info": {
   "codemirror_mode": {
    "name": "ipython",
    "version": 3
   },
   "file_extension": ".py",
   "mimetype": "text/x-python",
   "name": "python",
   "nbconvert_exporter": "python",
   "pygments_lexer": "ipython3",
   "version": "3.10.8"
  }
 },
 "nbformat": 4,
 "nbformat_minor": 5
}
